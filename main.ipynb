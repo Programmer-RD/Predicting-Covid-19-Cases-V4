{
 "cells": [
  {
   "cell_type": "code",
   "execution_count": 34,
   "metadata": {},
   "outputs": [],
   "source": [
    "import pandas as pd"
   ]
  },
  {
   "cell_type": "markdown",
   "metadata": {},
   "source": [
    "# the predictions may change according to different reasons. the predictions may change the 97% accuracy this shows may change the predictions may change"
   ]
  },
  {
   "cell_type": "code",
   "execution_count": 35,
   "metadata": {},
   "outputs": [
    {
     "name": "stdout",
     "output_type": "stream",
     "text": [
      "data  location.json  main.ipynb\r\n"
     ]
    }
   ],
   "source": [
    "!ls"
   ]
  },
  {
   "cell_type": "code",
   "execution_count": 36,
   "metadata": {},
   "outputs": [],
   "source": [
    "data = pd.read_csv('./data/owid-covid-data.csv')"
   ]
  },
  {
   "cell_type": "code",
   "execution_count": 37,
   "metadata": {},
   "outputs": [
    {
     "data": {
      "text/plain": [
       "67166"
      ]
     },
     "execution_count": 37,
     "metadata": {},
     "output_type": "execute_result"
    }
   ],
   "source": [
    "len(data)"
   ]
  },
  {
   "cell_type": "code",
   "execution_count": 38,
   "metadata": {},
   "outputs": [
    {
     "data": {
      "text/html": [
       "<div>\n",
       "<style scoped>\n",
       "    .dataframe tbody tr th:only-of-type {\n",
       "        vertical-align: middle;\n",
       "    }\n",
       "\n",
       "    .dataframe tbody tr th {\n",
       "        vertical-align: top;\n",
       "    }\n",
       "\n",
       "    .dataframe thead th {\n",
       "        text-align: right;\n",
       "    }\n",
       "</style>\n",
       "<table border=\"1\" class=\"dataframe\">\n",
       "  <thead>\n",
       "    <tr style=\"text-align: right;\">\n",
       "      <th></th>\n",
       "      <th>iso_code</th>\n",
       "      <th>continent</th>\n",
       "      <th>location</th>\n",
       "      <th>date</th>\n",
       "      <th>total_cases</th>\n",
       "      <th>new_cases</th>\n",
       "      <th>new_cases_smoothed</th>\n",
       "      <th>total_deaths</th>\n",
       "      <th>new_deaths</th>\n",
       "      <th>new_deaths_smoothed</th>\n",
       "      <th>...</th>\n",
       "      <th>gdp_per_capita</th>\n",
       "      <th>extreme_poverty</th>\n",
       "      <th>cardiovasc_death_rate</th>\n",
       "      <th>diabetes_prevalence</th>\n",
       "      <th>female_smokers</th>\n",
       "      <th>male_smokers</th>\n",
       "      <th>handwashing_facilities</th>\n",
       "      <th>hospital_beds_per_thousand</th>\n",
       "      <th>life_expectancy</th>\n",
       "      <th>human_development_index</th>\n",
       "    </tr>\n",
       "  </thead>\n",
       "  <tbody>\n",
       "    <tr>\n",
       "      <th>0</th>\n",
       "      <td>AFG</td>\n",
       "      <td>Asia</td>\n",
       "      <td>Afghanistan</td>\n",
       "      <td>2020-02-24</td>\n",
       "      <td>1.0</td>\n",
       "      <td>1.0</td>\n",
       "      <td>NaN</td>\n",
       "      <td>NaN</td>\n",
       "      <td>NaN</td>\n",
       "      <td>NaN</td>\n",
       "      <td>...</td>\n",
       "      <td>1803.987</td>\n",
       "      <td>NaN</td>\n",
       "      <td>597.029</td>\n",
       "      <td>9.59</td>\n",
       "      <td>NaN</td>\n",
       "      <td>NaN</td>\n",
       "      <td>37.746</td>\n",
       "      <td>0.5</td>\n",
       "      <td>64.83</td>\n",
       "      <td>0.498</td>\n",
       "    </tr>\n",
       "    <tr>\n",
       "      <th>1</th>\n",
       "      <td>AFG</td>\n",
       "      <td>Asia</td>\n",
       "      <td>Afghanistan</td>\n",
       "      <td>2020-02-25</td>\n",
       "      <td>1.0</td>\n",
       "      <td>0.0</td>\n",
       "      <td>NaN</td>\n",
       "      <td>NaN</td>\n",
       "      <td>NaN</td>\n",
       "      <td>NaN</td>\n",
       "      <td>...</td>\n",
       "      <td>1803.987</td>\n",
       "      <td>NaN</td>\n",
       "      <td>597.029</td>\n",
       "      <td>9.59</td>\n",
       "      <td>NaN</td>\n",
       "      <td>NaN</td>\n",
       "      <td>37.746</td>\n",
       "      <td>0.5</td>\n",
       "      <td>64.83</td>\n",
       "      <td>0.498</td>\n",
       "    </tr>\n",
       "    <tr>\n",
       "      <th>2</th>\n",
       "      <td>AFG</td>\n",
       "      <td>Asia</td>\n",
       "      <td>Afghanistan</td>\n",
       "      <td>2020-02-26</td>\n",
       "      <td>1.0</td>\n",
       "      <td>0.0</td>\n",
       "      <td>NaN</td>\n",
       "      <td>NaN</td>\n",
       "      <td>NaN</td>\n",
       "      <td>NaN</td>\n",
       "      <td>...</td>\n",
       "      <td>1803.987</td>\n",
       "      <td>NaN</td>\n",
       "      <td>597.029</td>\n",
       "      <td>9.59</td>\n",
       "      <td>NaN</td>\n",
       "      <td>NaN</td>\n",
       "      <td>37.746</td>\n",
       "      <td>0.5</td>\n",
       "      <td>64.83</td>\n",
       "      <td>0.498</td>\n",
       "    </tr>\n",
       "    <tr>\n",
       "      <th>3</th>\n",
       "      <td>AFG</td>\n",
       "      <td>Asia</td>\n",
       "      <td>Afghanistan</td>\n",
       "      <td>2020-02-27</td>\n",
       "      <td>1.0</td>\n",
       "      <td>0.0</td>\n",
       "      <td>NaN</td>\n",
       "      <td>NaN</td>\n",
       "      <td>NaN</td>\n",
       "      <td>NaN</td>\n",
       "      <td>...</td>\n",
       "      <td>1803.987</td>\n",
       "      <td>NaN</td>\n",
       "      <td>597.029</td>\n",
       "      <td>9.59</td>\n",
       "      <td>NaN</td>\n",
       "      <td>NaN</td>\n",
       "      <td>37.746</td>\n",
       "      <td>0.5</td>\n",
       "      <td>64.83</td>\n",
       "      <td>0.498</td>\n",
       "    </tr>\n",
       "    <tr>\n",
       "      <th>4</th>\n",
       "      <td>AFG</td>\n",
       "      <td>Asia</td>\n",
       "      <td>Afghanistan</td>\n",
       "      <td>2020-02-28</td>\n",
       "      <td>1.0</td>\n",
       "      <td>0.0</td>\n",
       "      <td>NaN</td>\n",
       "      <td>NaN</td>\n",
       "      <td>NaN</td>\n",
       "      <td>NaN</td>\n",
       "      <td>...</td>\n",
       "      <td>1803.987</td>\n",
       "      <td>NaN</td>\n",
       "      <td>597.029</td>\n",
       "      <td>9.59</td>\n",
       "      <td>NaN</td>\n",
       "      <td>NaN</td>\n",
       "      <td>37.746</td>\n",
       "      <td>0.5</td>\n",
       "      <td>64.83</td>\n",
       "      <td>0.498</td>\n",
       "    </tr>\n",
       "  </tbody>\n",
       "</table>\n",
       "<p>5 rows × 59 columns</p>\n",
       "</div>"
      ],
      "text/plain": [
       "  iso_code continent     location        date  total_cases  new_cases  \\\n",
       "0      AFG      Asia  Afghanistan  2020-02-24          1.0        1.0   \n",
       "1      AFG      Asia  Afghanistan  2020-02-25          1.0        0.0   \n",
       "2      AFG      Asia  Afghanistan  2020-02-26          1.0        0.0   \n",
       "3      AFG      Asia  Afghanistan  2020-02-27          1.0        0.0   \n",
       "4      AFG      Asia  Afghanistan  2020-02-28          1.0        0.0   \n",
       "\n",
       "   new_cases_smoothed  total_deaths  new_deaths  new_deaths_smoothed  ...  \\\n",
       "0                 NaN           NaN         NaN                  NaN  ...   \n",
       "1                 NaN           NaN         NaN                  NaN  ...   \n",
       "2                 NaN           NaN         NaN                  NaN  ...   \n",
       "3                 NaN           NaN         NaN                  NaN  ...   \n",
       "4                 NaN           NaN         NaN                  NaN  ...   \n",
       "\n",
       "   gdp_per_capita  extreme_poverty  cardiovasc_death_rate  \\\n",
       "0        1803.987              NaN                597.029   \n",
       "1        1803.987              NaN                597.029   \n",
       "2        1803.987              NaN                597.029   \n",
       "3        1803.987              NaN                597.029   \n",
       "4        1803.987              NaN                597.029   \n",
       "\n",
       "   diabetes_prevalence  female_smokers  male_smokers  handwashing_facilities  \\\n",
       "0                 9.59             NaN           NaN                  37.746   \n",
       "1                 9.59             NaN           NaN                  37.746   \n",
       "2                 9.59             NaN           NaN                  37.746   \n",
       "3                 9.59             NaN           NaN                  37.746   \n",
       "4                 9.59             NaN           NaN                  37.746   \n",
       "\n",
       "   hospital_beds_per_thousand  life_expectancy  human_development_index  \n",
       "0                         0.5            64.83                    0.498  \n",
       "1                         0.5            64.83                    0.498  \n",
       "2                         0.5            64.83                    0.498  \n",
       "3                         0.5            64.83                    0.498  \n",
       "4                         0.5            64.83                    0.498  \n",
       "\n",
       "[5 rows x 59 columns]"
      ]
     },
     "execution_count": 38,
     "metadata": {},
     "output_type": "execute_result"
    }
   ],
   "source": [
    "data.head()"
   ]
  },
  {
   "cell_type": "code",
   "execution_count": 39,
   "metadata": {},
   "outputs": [
    {
     "data": {
      "text/plain": [
       "Index(['iso_code', 'continent', 'location', 'date', 'total_cases', 'new_cases',\n",
       "       'new_cases_smoothed', 'total_deaths', 'new_deaths',\n",
       "       'new_deaths_smoothed', 'total_cases_per_million',\n",
       "       'new_cases_per_million', 'new_cases_smoothed_per_million',\n",
       "       'total_deaths_per_million', 'new_deaths_per_million',\n",
       "       'new_deaths_smoothed_per_million', 'reproduction_rate', 'icu_patients',\n",
       "       'icu_patients_per_million', 'hosp_patients',\n",
       "       'hosp_patients_per_million', 'weekly_icu_admissions',\n",
       "       'weekly_icu_admissions_per_million', 'weekly_hosp_admissions',\n",
       "       'weekly_hosp_admissions_per_million', 'new_tests', 'total_tests',\n",
       "       'total_tests_per_thousand', 'new_tests_per_thousand',\n",
       "       'new_tests_smoothed', 'new_tests_smoothed_per_thousand',\n",
       "       'positive_rate', 'tests_per_case', 'tests_units', 'total_vaccinations',\n",
       "       'people_vaccinated', 'people_fully_vaccinated', 'new_vaccinations',\n",
       "       'new_vaccinations_smoothed', 'total_vaccinations_per_hundred',\n",
       "       'people_vaccinated_per_hundred', 'people_fully_vaccinated_per_hundred',\n",
       "       'new_vaccinations_smoothed_per_million', 'stringency_index',\n",
       "       'population', 'population_density', 'median_age', 'aged_65_older',\n",
       "       'aged_70_older', 'gdp_per_capita', 'extreme_poverty',\n",
       "       'cardiovasc_death_rate', 'diabetes_prevalence', 'female_smokers',\n",
       "       'male_smokers', 'handwashing_facilities', 'hospital_beds_per_thousand',\n",
       "       'life_expectancy', 'human_development_index'],\n",
       "      dtype='object')"
      ]
     },
     "execution_count": 39,
     "metadata": {},
     "output_type": "execute_result"
    }
   ],
   "source": [
    "data.columns"
   ]
  },
  {
   "cell_type": "code",
   "execution_count": 40,
   "metadata": {},
   "outputs": [],
   "source": [
    "data_new = pd.DataFrame({'Location':data['location'],'Contient':data['continent'],'Date':data['date'],'Total Cases':data['total_cases'],'New Cases':data['new_cases'],'Total Deaths':data['total_cases'],'New Deaths':data['new_deaths']})"
   ]
  },
  {
   "cell_type": "code",
   "execution_count": 41,
   "metadata": {},
   "outputs": [
    {
     "data": {
      "text/html": [
       "<div>\n",
       "<style scoped>\n",
       "    .dataframe tbody tr th:only-of-type {\n",
       "        vertical-align: middle;\n",
       "    }\n",
       "\n",
       "    .dataframe tbody tr th {\n",
       "        vertical-align: top;\n",
       "    }\n",
       "\n",
       "    .dataframe thead th {\n",
       "        text-align: right;\n",
       "    }\n",
       "</style>\n",
       "<table border=\"1\" class=\"dataframe\">\n",
       "  <thead>\n",
       "    <tr style=\"text-align: right;\">\n",
       "      <th></th>\n",
       "      <th>Location</th>\n",
       "      <th>Contient</th>\n",
       "      <th>Date</th>\n",
       "      <th>Total Cases</th>\n",
       "      <th>New Cases</th>\n",
       "      <th>Total Deaths</th>\n",
       "      <th>New Deaths</th>\n",
       "    </tr>\n",
       "  </thead>\n",
       "  <tbody>\n",
       "    <tr>\n",
       "      <th>0</th>\n",
       "      <td>Afghanistan</td>\n",
       "      <td>Asia</td>\n",
       "      <td>2020-02-24</td>\n",
       "      <td>1.0</td>\n",
       "      <td>1.0</td>\n",
       "      <td>1.0</td>\n",
       "      <td>NaN</td>\n",
       "    </tr>\n",
       "    <tr>\n",
       "      <th>1</th>\n",
       "      <td>Afghanistan</td>\n",
       "      <td>Asia</td>\n",
       "      <td>2020-02-25</td>\n",
       "      <td>1.0</td>\n",
       "      <td>0.0</td>\n",
       "      <td>1.0</td>\n",
       "      <td>NaN</td>\n",
       "    </tr>\n",
       "    <tr>\n",
       "      <th>2</th>\n",
       "      <td>Afghanistan</td>\n",
       "      <td>Asia</td>\n",
       "      <td>2020-02-26</td>\n",
       "      <td>1.0</td>\n",
       "      <td>0.0</td>\n",
       "      <td>1.0</td>\n",
       "      <td>NaN</td>\n",
       "    </tr>\n",
       "    <tr>\n",
       "      <th>3</th>\n",
       "      <td>Afghanistan</td>\n",
       "      <td>Asia</td>\n",
       "      <td>2020-02-27</td>\n",
       "      <td>1.0</td>\n",
       "      <td>0.0</td>\n",
       "      <td>1.0</td>\n",
       "      <td>NaN</td>\n",
       "    </tr>\n",
       "    <tr>\n",
       "      <th>4</th>\n",
       "      <td>Afghanistan</td>\n",
       "      <td>Asia</td>\n",
       "      <td>2020-02-28</td>\n",
       "      <td>1.0</td>\n",
       "      <td>0.0</td>\n",
       "      <td>1.0</td>\n",
       "      <td>NaN</td>\n",
       "    </tr>\n",
       "  </tbody>\n",
       "</table>\n",
       "</div>"
      ],
      "text/plain": [
       "      Location Contient        Date  Total Cases  New Cases  Total Deaths  \\\n",
       "0  Afghanistan     Asia  2020-02-24          1.0        1.0           1.0   \n",
       "1  Afghanistan     Asia  2020-02-25          1.0        0.0           1.0   \n",
       "2  Afghanistan     Asia  2020-02-26          1.0        0.0           1.0   \n",
       "3  Afghanistan     Asia  2020-02-27          1.0        0.0           1.0   \n",
       "4  Afghanistan     Asia  2020-02-28          1.0        0.0           1.0   \n",
       "\n",
       "   New Deaths  \n",
       "0         NaN  \n",
       "1         NaN  \n",
       "2         NaN  \n",
       "3         NaN  \n",
       "4         NaN  "
      ]
     },
     "execution_count": 41,
     "metadata": {},
     "output_type": "execute_result"
    }
   ],
   "source": [
    "data_new.head()"
   ]
  },
  {
   "cell_type": "code",
   "execution_count": 42,
   "metadata": {},
   "outputs": [],
   "source": [
    "data = data_new"
   ]
  },
  {
   "cell_type": "code",
   "execution_count": 43,
   "metadata": {},
   "outputs": [
    {
     "data": {
      "text/html": [
       "<div>\n",
       "<style scoped>\n",
       "    .dataframe tbody tr th:only-of-type {\n",
       "        vertical-align: middle;\n",
       "    }\n",
       "\n",
       "    .dataframe tbody tr th {\n",
       "        vertical-align: top;\n",
       "    }\n",
       "\n",
       "    .dataframe thead th {\n",
       "        text-align: right;\n",
       "    }\n",
       "</style>\n",
       "<table border=\"1\" class=\"dataframe\">\n",
       "  <thead>\n",
       "    <tr style=\"text-align: right;\">\n",
       "      <th></th>\n",
       "      <th>Location</th>\n",
       "      <th>Contient</th>\n",
       "      <th>Date</th>\n",
       "      <th>Total Cases</th>\n",
       "      <th>New Cases</th>\n",
       "      <th>Total Deaths</th>\n",
       "      <th>New Deaths</th>\n",
       "    </tr>\n",
       "  </thead>\n",
       "  <tbody>\n",
       "    <tr>\n",
       "      <th>0</th>\n",
       "      <td>Afghanistan</td>\n",
       "      <td>Asia</td>\n",
       "      <td>2020-02-24</td>\n",
       "      <td>1.0</td>\n",
       "      <td>1.0</td>\n",
       "      <td>1.0</td>\n",
       "      <td>NaN</td>\n",
       "    </tr>\n",
       "    <tr>\n",
       "      <th>1</th>\n",
       "      <td>Afghanistan</td>\n",
       "      <td>Asia</td>\n",
       "      <td>2020-02-25</td>\n",
       "      <td>1.0</td>\n",
       "      <td>0.0</td>\n",
       "      <td>1.0</td>\n",
       "      <td>NaN</td>\n",
       "    </tr>\n",
       "    <tr>\n",
       "      <th>2</th>\n",
       "      <td>Afghanistan</td>\n",
       "      <td>Asia</td>\n",
       "      <td>2020-02-26</td>\n",
       "      <td>1.0</td>\n",
       "      <td>0.0</td>\n",
       "      <td>1.0</td>\n",
       "      <td>NaN</td>\n",
       "    </tr>\n",
       "    <tr>\n",
       "      <th>3</th>\n",
       "      <td>Afghanistan</td>\n",
       "      <td>Asia</td>\n",
       "      <td>2020-02-27</td>\n",
       "      <td>1.0</td>\n",
       "      <td>0.0</td>\n",
       "      <td>1.0</td>\n",
       "      <td>NaN</td>\n",
       "    </tr>\n",
       "    <tr>\n",
       "      <th>4</th>\n",
       "      <td>Afghanistan</td>\n",
       "      <td>Asia</td>\n",
       "      <td>2020-02-28</td>\n",
       "      <td>1.0</td>\n",
       "      <td>0.0</td>\n",
       "      <td>1.0</td>\n",
       "      <td>NaN</td>\n",
       "    </tr>\n",
       "  </tbody>\n",
       "</table>\n",
       "</div>"
      ],
      "text/plain": [
       "      Location Contient        Date  Total Cases  New Cases  Total Deaths  \\\n",
       "0  Afghanistan     Asia  2020-02-24          1.0        1.0           1.0   \n",
       "1  Afghanistan     Asia  2020-02-25          1.0        0.0           1.0   \n",
       "2  Afghanistan     Asia  2020-02-26          1.0        0.0           1.0   \n",
       "3  Afghanistan     Asia  2020-02-27          1.0        0.0           1.0   \n",
       "4  Afghanistan     Asia  2020-02-28          1.0        0.0           1.0   \n",
       "\n",
       "   New Deaths  \n",
       "0         NaN  \n",
       "1         NaN  \n",
       "2         NaN  \n",
       "3         NaN  \n",
       "4         NaN  "
      ]
     },
     "execution_count": 43,
     "metadata": {},
     "output_type": "execute_result"
    }
   ],
   "source": [
    "data.head()"
   ]
  },
  {
   "cell_type": "code",
   "execution_count": 44,
   "metadata": {},
   "outputs": [
    {
     "data": {
      "text/plain": [
       "Location           0\n",
       "Contient        3364\n",
       "Date               0\n",
       "Total Cases      611\n",
       "New Cases        613\n",
       "Total Deaths     611\n",
       "New Deaths      9290\n",
       "dtype: int64"
      ]
     },
     "execution_count": 44,
     "metadata": {},
     "output_type": "execute_result"
    }
   ],
   "source": [
    "data.isna().sum()"
   ]
  },
  {
   "cell_type": "code",
   "execution_count": 45,
   "metadata": {},
   "outputs": [],
   "source": [
    "data.drop('Contient',axis=1,inplace=True)"
   ]
  },
  {
   "cell_type": "code",
   "execution_count": 46,
   "metadata": {},
   "outputs": [
    {
     "data": {
      "text/plain": [
       "Location           0\n",
       "Date               0\n",
       "Total Cases      611\n",
       "New Cases        613\n",
       "Total Deaths     611\n",
       "New Deaths      9290\n",
       "dtype: int64"
      ]
     },
     "execution_count": 46,
     "metadata": {},
     "output_type": "execute_result"
    }
   ],
   "source": [
    "data.isna().sum()"
   ]
  },
  {
   "cell_type": "code",
   "execution_count": 47,
   "metadata": {},
   "outputs": [
    {
     "data": {
      "text/plain": [
       "67166"
      ]
     },
     "execution_count": 47,
     "metadata": {},
     "output_type": "execute_result"
    }
   ],
   "source": [
    "len(data)"
   ]
  },
  {
   "cell_type": "code",
   "execution_count": 48,
   "metadata": {},
   "outputs": [],
   "source": [
    "data.dropna(inplace=True)"
   ]
  },
  {
   "cell_type": "code",
   "execution_count": 49,
   "metadata": {},
   "outputs": [
    {
     "data": {
      "text/plain": [
       "Location        0\n",
       "Date            0\n",
       "Total Cases     0\n",
       "New Cases       0\n",
       "Total Deaths    0\n",
       "New Deaths      0\n",
       "dtype: int64"
      ]
     },
     "execution_count": 49,
     "metadata": {},
     "output_type": "execute_result"
    }
   ],
   "source": [
    "data.isna().sum()"
   ]
  },
  {
   "cell_type": "code",
   "execution_count": 50,
   "metadata": {},
   "outputs": [
    {
     "data": {
      "text/plain": [
       "57869"
      ]
     },
     "execution_count": 50,
     "metadata": {},
     "output_type": "execute_result"
    }
   ],
   "source": [
    "len(data)"
   ]
  },
  {
   "cell_type": "code",
   "execution_count": 51,
   "metadata": {},
   "outputs": [],
   "source": [
    "def object_to_int(data,coloum):\n",
    "    index = -1\n",
    "    info_dict = {}\n",
    "    all_info = []\n",
    "    for i in data[coloum]:\n",
    "        if i not in info_dict:\n",
    "            index = index + 1\n",
    "            info_dict[i] = index\n",
    "    for x in data[coloum]:\n",
    "        all_info.append(info_dict[x])\n",
    "    return all_info,info_dict"
   ]
  },
  {
   "cell_type": "code",
   "execution_count": 52,
   "metadata": {},
   "outputs": [],
   "source": [
    "info = object_to_int(data,'Location')\n",
    "with open('location.json','w') as json_file:\n",
    "    import json\n",
    "    json.dump(info[1],json_file)\n",
    "data['Location'] = info[0]"
   ]
  },
  {
   "cell_type": "code",
   "execution_count": 53,
   "metadata": {},
   "outputs": [
    {
     "data": {
      "text/html": [
       "<div>\n",
       "<style scoped>\n",
       "    .dataframe tbody tr th:only-of-type {\n",
       "        vertical-align: middle;\n",
       "    }\n",
       "\n",
       "    .dataframe tbody tr th {\n",
       "        vertical-align: top;\n",
       "    }\n",
       "\n",
       "    .dataframe thead th {\n",
       "        text-align: right;\n",
       "    }\n",
       "</style>\n",
       "<table border=\"1\" class=\"dataframe\">\n",
       "  <thead>\n",
       "    <tr style=\"text-align: right;\">\n",
       "      <th></th>\n",
       "      <th>Location</th>\n",
       "      <th>Date</th>\n",
       "      <th>Total Cases</th>\n",
       "      <th>New Cases</th>\n",
       "      <th>Total Deaths</th>\n",
       "      <th>New Deaths</th>\n",
       "    </tr>\n",
       "  </thead>\n",
       "  <tbody>\n",
       "    <tr>\n",
       "      <th>27</th>\n",
       "      <td>0</td>\n",
       "      <td>2020-03-22</td>\n",
       "      <td>34.0</td>\n",
       "      <td>4.0</td>\n",
       "      <td>34.0</td>\n",
       "      <td>1.0</td>\n",
       "    </tr>\n",
       "    <tr>\n",
       "      <th>28</th>\n",
       "      <td>0</td>\n",
       "      <td>2020-03-23</td>\n",
       "      <td>41.0</td>\n",
       "      <td>7.0</td>\n",
       "      <td>41.0</td>\n",
       "      <td>0.0</td>\n",
       "    </tr>\n",
       "    <tr>\n",
       "      <th>29</th>\n",
       "      <td>0</td>\n",
       "      <td>2020-03-24</td>\n",
       "      <td>43.0</td>\n",
       "      <td>2.0</td>\n",
       "      <td>43.0</td>\n",
       "      <td>0.0</td>\n",
       "    </tr>\n",
       "    <tr>\n",
       "      <th>30</th>\n",
       "      <td>0</td>\n",
       "      <td>2020-03-25</td>\n",
       "      <td>76.0</td>\n",
       "      <td>33.0</td>\n",
       "      <td>76.0</td>\n",
       "      <td>1.0</td>\n",
       "    </tr>\n",
       "    <tr>\n",
       "      <th>31</th>\n",
       "      <td>0</td>\n",
       "      <td>2020-03-26</td>\n",
       "      <td>80.0</td>\n",
       "      <td>4.0</td>\n",
       "      <td>80.0</td>\n",
       "      <td>1.0</td>\n",
       "    </tr>\n",
       "  </tbody>\n",
       "</table>\n",
       "</div>"
      ],
      "text/plain": [
       "    Location        Date  Total Cases  New Cases  Total Deaths  New Deaths\n",
       "27         0  2020-03-22         34.0        4.0          34.0         1.0\n",
       "28         0  2020-03-23         41.0        7.0          41.0         0.0\n",
       "29         0  2020-03-24         43.0        2.0          43.0         0.0\n",
       "30         0  2020-03-25         76.0       33.0          76.0         1.0\n",
       "31         0  2020-03-26         80.0        4.0          80.0         1.0"
      ]
     },
     "execution_count": 53,
     "metadata": {},
     "output_type": "execute_result"
    }
   ],
   "source": [
    "data.head()"
   ]
  },
  {
   "cell_type": "code",
   "execution_count": 54,
   "metadata": {},
   "outputs": [
    {
     "data": {
      "text/plain": [
       "Location          int64\n",
       "Date             object\n",
       "Total Cases     float64\n",
       "New Cases       float64\n",
       "Total Deaths    float64\n",
       "New Deaths      float64\n",
       "dtype: object"
      ]
     },
     "execution_count": 54,
     "metadata": {},
     "output_type": "execute_result"
    }
   ],
   "source": [
    "data.dtypes"
   ]
  },
  {
   "cell_type": "code",
   "execution_count": 55,
   "metadata": {},
   "outputs": [],
   "source": [
    "dates = []\n",
    "for date in data['Date']:\n",
    "    dates.append(int(date.replace('-','')))"
   ]
  },
  {
   "cell_type": "code",
   "execution_count": 56,
   "metadata": {},
   "outputs": [],
   "source": [
    "data['Date'] = dates"
   ]
  },
  {
   "cell_type": "code",
   "execution_count": 57,
   "metadata": {},
   "outputs": [
    {
     "data": {
      "text/plain": [
       "Location          int64\n",
       "Date              int64\n",
       "Total Cases     float64\n",
       "New Cases       float64\n",
       "Total Deaths    float64\n",
       "New Deaths      float64\n",
       "dtype: object"
      ]
     },
     "execution_count": 57,
     "metadata": {},
     "output_type": "execute_result"
    }
   ],
   "source": [
    "data.dtypes"
   ]
  },
  {
   "cell_type": "code",
   "execution_count": 58,
   "metadata": {},
   "outputs": [],
   "source": [
    "infos = []\n",
    "for info_ in data['Total Cases']:\n",
    "    infos.append(int(info_))\n",
    "data['Total Cases'] = infos"
   ]
  },
  {
   "cell_type": "code",
   "execution_count": 59,
   "metadata": {},
   "outputs": [
    {
     "data": {
      "text/plain": [
       "Location          int64\n",
       "Date              int64\n",
       "Total Cases       int64\n",
       "New Cases       float64\n",
       "Total Deaths    float64\n",
       "New Deaths      float64\n",
       "dtype: object"
      ]
     },
     "execution_count": 59,
     "metadata": {},
     "output_type": "execute_result"
    }
   ],
   "source": [
    "data.dtypes"
   ]
  },
  {
   "cell_type": "code",
   "execution_count": 60,
   "metadata": {},
   "outputs": [],
   "source": [
    "infos = []\n",
    "for info_ in data['Total Deaths']:\n",
    "    infos.append(int(info_))\n",
    "data['Total Deaths'] = infos"
   ]
  },
  {
   "cell_type": "code",
   "execution_count": 61,
   "metadata": {},
   "outputs": [
    {
     "data": {
      "text/plain": [
       "Location          int64\n",
       "Date              int64\n",
       "Total Cases       int64\n",
       "New Cases       float64\n",
       "Total Deaths      int64\n",
       "New Deaths      float64\n",
       "dtype: object"
      ]
     },
     "execution_count": 61,
     "metadata": {},
     "output_type": "execute_result"
    }
   ],
   "source": [
    "data.dtypes"
   ]
  },
  {
   "cell_type": "code",
   "execution_count": 62,
   "metadata": {},
   "outputs": [],
   "source": [
    "infos = []\n",
    "for info_ in data['New Deaths']:\n",
    "    infos.append(int(info_))\n",
    "data['New Deaths'] = infos"
   ]
  },
  {
   "cell_type": "code",
   "execution_count": 63,
   "metadata": {},
   "outputs": [
    {
     "data": {
      "text/plain": [
       "Location          int64\n",
       "Date              int64\n",
       "Total Cases       int64\n",
       "New Cases       float64\n",
       "Total Deaths      int64\n",
       "New Deaths        int64\n",
       "dtype: object"
      ]
     },
     "execution_count": 63,
     "metadata": {},
     "output_type": "execute_result"
    }
   ],
   "source": [
    "data.dtypes"
   ]
  },
  {
   "cell_type": "code",
   "execution_count": 64,
   "metadata": {},
   "outputs": [],
   "source": [
    "infos = []\n",
    "for info_ in data['New Cases']:\n",
    "    infos.append(int(info_))\n",
    "data['New Cases'] = infos"
   ]
  },
  {
   "cell_type": "code",
   "execution_count": 65,
   "metadata": {},
   "outputs": [
    {
     "data": {
      "text/plain": [
       "Location        int64\n",
       "Date            int64\n",
       "Total Cases     int64\n",
       "New Cases       int64\n",
       "Total Deaths    int64\n",
       "New Deaths      int64\n",
       "dtype: object"
      ]
     },
     "execution_count": 65,
     "metadata": {},
     "output_type": "execute_result"
    }
   ],
   "source": [
    "data.dtypes"
   ]
  },
  {
   "cell_type": "code",
   "execution_count": 66,
   "metadata": {},
   "outputs": [],
   "source": [
    "X = data.drop(['Total Cases','Total Deaths','New Cases','New Deaths'],axis=1)\n",
    "y = data.drop(['Location','Date'],axis=1)"
   ]
  },
  {
   "cell_type": "code",
   "execution_count": 67,
   "metadata": {},
   "outputs": [],
   "source": [
    "from sklearn.model_selection import *\n",
    "from sklearn.metrics import *\n",
    "from sklearn.ensemble import *\n",
    "from sklearn.tree import *"
   ]
  },
  {
   "cell_type": "code",
   "execution_count": 68,
   "metadata": {},
   "outputs": [],
   "source": [
    "X_train,X_test,y_train,y_test = train_test_split(X,y,test_size=0.25)"
   ]
  },
  {
   "cell_type": "code",
   "execution_count": 69,
   "metadata": {},
   "outputs": [
    {
     "data": {
      "text/plain": [
       "0.9731425660556918"
      ]
     },
     "execution_count": 69,
     "metadata": {},
     "output_type": "execute_result"
    }
   ],
   "source": [
    "model_RandomForestRegressor = RandomForestRegressor().fit(X_train,y_train)\n",
    "model_RandomForestRegressor.score(X_test,y_test)"
   ]
  },
  {
   "cell_type": "code",
   "execution_count": 70,
   "metadata": {},
   "outputs": [
    {
     "data": {
      "text/plain": [
       "0.9654276851121234"
      ]
     },
     "execution_count": 70,
     "metadata": {},
     "output_type": "execute_result"
    }
   ],
   "source": [
    "model_DecisionTreeRegressor = DecisionTreeRegressor().fit(X_train,y_train)\n",
    "model_DecisionTreeRegressor.score(X_test,y_test)"
   ]
  },
  {
   "cell_type": "code",
   "execution_count": 72,
   "metadata": {},
   "outputs": [
    {
     "name": "stdout",
     "output_type": "stream",
     "text": [
      "Fitting 5 folds for each of 25 candidates, totalling 125 fits\n",
      "[CV] splitter=random, min_samples_leaf=8, max_features=log2, max_depth=20 \n",
      "[CV]  splitter=random, min_samples_leaf=8, max_features=log2, max_depth=20, score=0.655, total=   0.1s\n",
      "[CV] splitter=random, min_samples_leaf=8, max_features=log2, max_depth=20 \n"
     ]
    },
    {
     "name": "stderr",
     "output_type": "stream",
     "text": [
      "[Parallel(n_jobs=1)]: Using backend SequentialBackend with 1 concurrent workers.\n",
      "[Parallel(n_jobs=1)]: Done   1 out of   1 | elapsed:    0.1s remaining:    0.0s\n",
      "[Parallel(n_jobs=1)]: Done   2 out of   2 | elapsed:    0.2s remaining:    0.0s\n"
     ]
    },
    {
     "name": "stdout",
     "output_type": "stream",
     "text": [
      "[CV]  splitter=random, min_samples_leaf=8, max_features=log2, max_depth=20, score=0.451, total=   0.1s\n",
      "[CV] splitter=random, min_samples_leaf=8, max_features=log2, max_depth=20 \n",
      "[CV]  splitter=random, min_samples_leaf=8, max_features=log2, max_depth=20, score=0.144, total=   0.1s\n",
      "[CV] splitter=random, min_samples_leaf=8, max_features=log2, max_depth=20 \n",
      "[CV]  splitter=random, min_samples_leaf=8, max_features=log2, max_depth=20, score=0.365, total=   0.1s\n",
      "[CV] splitter=random, min_samples_leaf=8, max_features=log2, max_depth=20 \n"
     ]
    },
    {
     "name": "stderr",
     "output_type": "stream",
     "text": [
      "[Parallel(n_jobs=1)]: Done   3 out of   3 | elapsed:    0.3s remaining:    0.0s\n",
      "[Parallel(n_jobs=1)]: Done   4 out of   4 | elapsed:    0.4s remaining:    0.0s\n",
      "[Parallel(n_jobs=1)]: Done   5 out of   5 | elapsed:    0.5s remaining:    0.0s\n"
     ]
    },
    {
     "name": "stdout",
     "output_type": "stream",
     "text": [
      "[CV]  splitter=random, min_samples_leaf=8, max_features=log2, max_depth=20, score=0.174, total=   0.1s\n",
      "[CV] splitter=random, min_samples_leaf=8, max_features=auto, max_depth=5 \n",
      "[CV]  splitter=random, min_samples_leaf=8, max_features=auto, max_depth=5, score=0.177, total=   0.1s\n",
      "[CV] splitter=random, min_samples_leaf=8, max_features=auto, max_depth=5 \n",
      "[CV]  splitter=random, min_samples_leaf=8, max_features=auto, max_depth=5, score=0.086, total=   0.1s\n",
      "[CV] splitter=random, min_samples_leaf=8, max_features=auto, max_depth=5 \n",
      "[CV]  splitter=random, min_samples_leaf=8, max_features=auto, max_depth=5, score=0.098, total=   0.1s\n",
      "[CV] splitter=random, min_samples_leaf=8, max_features=auto, max_depth=5 \n"
     ]
    },
    {
     "name": "stderr",
     "output_type": "stream",
     "text": [
      "[Parallel(n_jobs=1)]: Done   6 out of   6 | elapsed:    0.5s remaining:    0.0s\n",
      "[Parallel(n_jobs=1)]: Done   7 out of   7 | elapsed:    0.6s remaining:    0.0s\n",
      "[Parallel(n_jobs=1)]: Done   8 out of   8 | elapsed:    0.6s remaining:    0.0s\n",
      "[Parallel(n_jobs=1)]: Done   9 out of   9 | elapsed:    0.7s remaining:    0.0s\n"
     ]
    },
    {
     "name": "stdout",
     "output_type": "stream",
     "text": [
      "[CV]  splitter=random, min_samples_leaf=8, max_features=auto, max_depth=5, score=0.175, total=   0.1s\n",
      "[CV] splitter=random, min_samples_leaf=8, max_features=auto, max_depth=5 \n",
      "[CV]  splitter=random, min_samples_leaf=8, max_features=auto, max_depth=5, score=0.391, total=   0.1s\n",
      "[CV] splitter=best, min_samples_leaf=10, max_features=sqrt, max_depth=40 \n"
     ]
    },
    {
     "name": "stderr",
     "output_type": "stream",
     "text": [
      "[Parallel(n_jobs=1)]: Done  10 out of  10 | elapsed:    0.8s remaining:    0.0s\n",
      "[Parallel(n_jobs=1)]: Done  11 out of  11 | elapsed:    0.9s remaining:    0.0s\n"
     ]
    },
    {
     "name": "stdout",
     "output_type": "stream",
     "text": [
      "[CV]  splitter=best, min_samples_leaf=10, max_features=sqrt, max_depth=40, score=0.903, total=   0.2s\n",
      "[CV] splitter=best, min_samples_leaf=10, max_features=sqrt, max_depth=40 \n",
      "[CV]  splitter=best, min_samples_leaf=10, max_features=sqrt, max_depth=40, score=0.370, total=   0.2s\n",
      "[CV] splitter=best, min_samples_leaf=10, max_features=sqrt, max_depth=40 \n",
      "[CV]  splitter=best, min_samples_leaf=10, max_features=sqrt, max_depth=40, score=0.854, total=   0.2s\n",
      "[CV] splitter=best, min_samples_leaf=10, max_features=sqrt, max_depth=40 \n"
     ]
    },
    {
     "name": "stderr",
     "output_type": "stream",
     "text": [
      "[Parallel(n_jobs=1)]: Done  12 out of  12 | elapsed:    1.2s remaining:    0.0s\n",
      "[Parallel(n_jobs=1)]: Done  13 out of  13 | elapsed:    1.4s remaining:    0.0s\n"
     ]
    },
    {
     "name": "stdout",
     "output_type": "stream",
     "text": [
      "[CV]  splitter=best, min_samples_leaf=10, max_features=sqrt, max_depth=40, score=0.672, total=   0.2s\n",
      "[CV] splitter=best, min_samples_leaf=10, max_features=sqrt, max_depth=40 \n",
      "[CV]  splitter=best, min_samples_leaf=10, max_features=sqrt, max_depth=40, score=0.852, total=   0.2s\n",
      "[CV] splitter=best, min_samples_leaf=2, max_features=auto, max_depth=5 \n"
     ]
    },
    {
     "name": "stderr",
     "output_type": "stream",
     "text": [
      "[Parallel(n_jobs=1)]: Done  14 out of  14 | elapsed:    1.5s remaining:    0.0s\n",
      "[Parallel(n_jobs=1)]: Done  15 out of  15 | elapsed:    1.7s remaining:    0.0s\n"
     ]
    },
    {
     "name": "stdout",
     "output_type": "stream",
     "text": [
      "[CV]  splitter=best, min_samples_leaf=2, max_features=auto, max_depth=5, score=0.792, total=   0.1s\n",
      "[CV] splitter=best, min_samples_leaf=2, max_features=auto, max_depth=5 \n",
      "[CV]  splitter=best, min_samples_leaf=2, max_features=auto, max_depth=5, score=0.758, total=   0.1s\n",
      "[CV] splitter=best, min_samples_leaf=2, max_features=auto, max_depth=5 \n"
     ]
    },
    {
     "name": "stderr",
     "output_type": "stream",
     "text": [
      "[Parallel(n_jobs=1)]: Done  16 out of  16 | elapsed:    1.8s remaining:    0.0s\n",
      "[Parallel(n_jobs=1)]: Done  17 out of  17 | elapsed:    2.0s remaining:    0.0s\n"
     ]
    },
    {
     "name": "stdout",
     "output_type": "stream",
     "text": [
      "[CV]  splitter=best, min_samples_leaf=2, max_features=auto, max_depth=5, score=0.733, total=   0.1s\n",
      "[CV] splitter=best, min_samples_leaf=2, max_features=auto, max_depth=5 \n",
      "[CV]  splitter=best, min_samples_leaf=2, max_features=auto, max_depth=5, score=0.748, total=   0.1s\n",
      "[CV] splitter=best, min_samples_leaf=2, max_features=auto, max_depth=5 \n"
     ]
    },
    {
     "name": "stderr",
     "output_type": "stream",
     "text": [
      "[Parallel(n_jobs=1)]: Done  18 out of  18 | elapsed:    2.1s remaining:    0.0s\n",
      "[Parallel(n_jobs=1)]: Done  19 out of  19 | elapsed:    2.2s remaining:    0.0s\n"
     ]
    },
    {
     "name": "stdout",
     "output_type": "stream",
     "text": [
      "[CV]  splitter=best, min_samples_leaf=2, max_features=auto, max_depth=5, score=0.782, total=   0.1s\n",
      "[CV] splitter=best, min_samples_leaf=10, max_features=log2, max_depth=30 \n",
      "[CV]  splitter=best, min_samples_leaf=10, max_features=log2, max_depth=30, score=0.929, total=   0.2s\n",
      "[CV] splitter=best, min_samples_leaf=10, max_features=log2, max_depth=30 \n"
     ]
    },
    {
     "name": "stderr",
     "output_type": "stream",
     "text": [
      "[Parallel(n_jobs=1)]: Done  20 out of  20 | elapsed:    2.3s remaining:    0.0s\n",
      "[Parallel(n_jobs=1)]: Done  21 out of  21 | elapsed:    2.5s remaining:    0.0s\n"
     ]
    },
    {
     "name": "stdout",
     "output_type": "stream",
     "text": [
      "[CV]  splitter=best, min_samples_leaf=10, max_features=log2, max_depth=30, score=0.857, total=   0.2s\n",
      "[CV] splitter=best, min_samples_leaf=10, max_features=log2, max_depth=30 \n",
      "[CV]  splitter=best, min_samples_leaf=10, max_features=log2, max_depth=30, score=0.932, total=   0.2s\n",
      "[CV] splitter=best, min_samples_leaf=10, max_features=log2, max_depth=30 \n"
     ]
    },
    {
     "name": "stderr",
     "output_type": "stream",
     "text": [
      "[Parallel(n_jobs=1)]: Done  22 out of  22 | elapsed:    2.7s remaining:    0.0s\n",
      "[Parallel(n_jobs=1)]: Done  23 out of  23 | elapsed:    2.9s remaining:    0.0s\n"
     ]
    },
    {
     "name": "stdout",
     "output_type": "stream",
     "text": [
      "[CV]  splitter=best, min_samples_leaf=10, max_features=log2, max_depth=30, score=0.920, total=   0.2s\n",
      "[CV] splitter=best, min_samples_leaf=10, max_features=log2, max_depth=30 \n",
      "[CV]  splitter=best, min_samples_leaf=10, max_features=log2, max_depth=30, score=0.864, total=   0.2s\n",
      "[CV] splitter=random, min_samples_leaf=10, max_features=log2, max_depth=45 \n"
     ]
    },
    {
     "name": "stderr",
     "output_type": "stream",
     "text": [
      "[Parallel(n_jobs=1)]: Done  24 out of  24 | elapsed:    3.0s remaining:    0.0s\n"
     ]
    },
    {
     "name": "stdout",
     "output_type": "stream",
     "text": [
      "[CV]  splitter=random, min_samples_leaf=10, max_features=log2, max_depth=45, score=0.149, total=   0.1s\n",
      "[CV] splitter=random, min_samples_leaf=10, max_features=log2, max_depth=45 \n",
      "[CV]  splitter=random, min_samples_leaf=10, max_features=log2, max_depth=45, score=0.460, total=   0.1s\n",
      "[CV] splitter=random, min_samples_leaf=10, max_features=log2, max_depth=45 \n",
      "[CV]  splitter=random, min_samples_leaf=10, max_features=log2, max_depth=45, score=0.215, total=   0.1s\n",
      "[CV] splitter=random, min_samples_leaf=10, max_features=log2, max_depth=45 \n",
      "[CV]  splitter=random, min_samples_leaf=10, max_features=log2, max_depth=45, score=0.307, total=   0.1s\n",
      "[CV] splitter=random, min_samples_leaf=10, max_features=log2, max_depth=45 \n",
      "[CV]  splitter=random, min_samples_leaf=10, max_features=log2, max_depth=45, score=0.698, total=   0.1s\n",
      "[CV] splitter=best, min_samples_leaf=4, max_features=sqrt, max_depth=30 \n",
      "[CV]  splitter=best, min_samples_leaf=4, max_features=sqrt, max_depth=30, score=0.907, total=   0.2s\n",
      "[CV] splitter=best, min_samples_leaf=4, max_features=sqrt, max_depth=30 \n",
      "[CV]  splitter=best, min_samples_leaf=4, max_features=sqrt, max_depth=30, score=0.811, total=   0.2s\n",
      "[CV] splitter=best, min_samples_leaf=4, max_features=sqrt, max_depth=30 \n",
      "[CV]  splitter=best, min_samples_leaf=4, max_features=sqrt, max_depth=30, score=0.852, total=   0.2s\n",
      "[CV] splitter=best, min_samples_leaf=4, max_features=sqrt, max_depth=30 \n",
      "[CV]  splitter=best, min_samples_leaf=4, max_features=sqrt, max_depth=30, score=0.965, total=   0.2s\n",
      "[CV] splitter=best, min_samples_leaf=4, max_features=sqrt, max_depth=30 \n",
      "[CV]  splitter=best, min_samples_leaf=4, max_features=sqrt, max_depth=30, score=0.953, total=   0.2s\n",
      "[CV] splitter=random, min_samples_leaf=4, max_features=sqrt, max_depth=5 \n",
      "[CV]  splitter=random, min_samples_leaf=4, max_features=sqrt, max_depth=5, score=0.340, total=   0.1s\n",
      "[CV] splitter=random, min_samples_leaf=4, max_features=sqrt, max_depth=5 \n",
      "[CV]  splitter=random, min_samples_leaf=4, max_features=sqrt, max_depth=5, score=0.076, total=   0.0s\n",
      "[CV] splitter=random, min_samples_leaf=4, max_features=sqrt, max_depth=5 \n",
      "[CV]  splitter=random, min_samples_leaf=4, max_features=sqrt, max_depth=5, score=0.127, total=   0.0s\n",
      "[CV] splitter=random, min_samples_leaf=4, max_features=sqrt, max_depth=5 \n",
      "[CV]  splitter=random, min_samples_leaf=4, max_features=sqrt, max_depth=5, score=0.070, total=   0.0s\n",
      "[CV] splitter=random, min_samples_leaf=4, max_features=sqrt, max_depth=5 \n",
      "[CV]  splitter=random, min_samples_leaf=4, max_features=sqrt, max_depth=5, score=0.031, total=   0.1s\n",
      "[CV] splitter=random, min_samples_leaf=6, max_features=sqrt, max_depth=35 \n",
      "[CV]  splitter=random, min_samples_leaf=6, max_features=sqrt, max_depth=35, score=0.144, total=   0.1s\n",
      "[CV] splitter=random, min_samples_leaf=6, max_features=sqrt, max_depth=35 \n",
      "[CV]  splitter=random, min_samples_leaf=6, max_features=sqrt, max_depth=35, score=0.374, total=   0.1s\n",
      "[CV] splitter=random, min_samples_leaf=6, max_features=sqrt, max_depth=35 \n",
      "[CV]  splitter=random, min_samples_leaf=6, max_features=sqrt, max_depth=35, score=0.509, total=   0.1s\n",
      "[CV] splitter=random, min_samples_leaf=6, max_features=sqrt, max_depth=35 \n",
      "[CV]  splitter=random, min_samples_leaf=6, max_features=sqrt, max_depth=35, score=0.384, total=   0.1s\n",
      "[CV] splitter=random, min_samples_leaf=6, max_features=sqrt, max_depth=35 \n",
      "[CV]  splitter=random, min_samples_leaf=6, max_features=sqrt, max_depth=35, score=0.128, total=   0.1s\n",
      "[CV] splitter=best, min_samples_leaf=6, max_features=auto, max_depth=30 \n",
      "[CV]  splitter=best, min_samples_leaf=6, max_features=auto, max_depth=30, score=0.974, total=   0.2s\n",
      "[CV] splitter=best, min_samples_leaf=6, max_features=auto, max_depth=30 \n",
      "[CV]  splitter=best, min_samples_leaf=6, max_features=auto, max_depth=30, score=0.970, total=   0.2s\n",
      "[CV] splitter=best, min_samples_leaf=6, max_features=auto, max_depth=30 \n",
      "[CV]  splitter=best, min_samples_leaf=6, max_features=auto, max_depth=30, score=0.973, total=   0.2s\n",
      "[CV] splitter=best, min_samples_leaf=6, max_features=auto, max_depth=30 \n",
      "[CV]  splitter=best, min_samples_leaf=6, max_features=auto, max_depth=30, score=0.977, total=   0.2s\n",
      "[CV] splitter=best, min_samples_leaf=6, max_features=auto, max_depth=30 \n",
      "[CV]  splitter=best, min_samples_leaf=6, max_features=auto, max_depth=30, score=0.972, total=   0.3s\n",
      "[CV] splitter=best, min_samples_leaf=10, max_features=log2, max_depth=25 \n",
      "[CV]  splitter=best, min_samples_leaf=10, max_features=log2, max_depth=25, score=0.818, total=   0.2s\n",
      "[CV] splitter=best, min_samples_leaf=10, max_features=log2, max_depth=25 \n",
      "[CV]  splitter=best, min_samples_leaf=10, max_features=log2, max_depth=25, score=0.744, total=   0.2s\n",
      "[CV] splitter=best, min_samples_leaf=10, max_features=log2, max_depth=25 \n",
      "[CV]  splitter=best, min_samples_leaf=10, max_features=log2, max_depth=25, score=0.923, total=   0.2s\n",
      "[CV] splitter=best, min_samples_leaf=10, max_features=log2, max_depth=25 \n",
      "[CV]  splitter=best, min_samples_leaf=10, max_features=log2, max_depth=25, score=0.776, total=   0.2s\n",
      "[CV] splitter=best, min_samples_leaf=10, max_features=log2, max_depth=25 \n",
      "[CV]  splitter=best, min_samples_leaf=10, max_features=log2, max_depth=25, score=0.917, total=   0.2s\n",
      "[CV] splitter=random, min_samples_leaf=10, max_features=auto, max_depth=None \n",
      "[CV]  splitter=random, min_samples_leaf=10, max_features=auto, max_depth=None, score=0.872, total=   0.1s\n",
      "[CV] splitter=random, min_samples_leaf=10, max_features=auto, max_depth=None \n",
      "[CV]  splitter=random, min_samples_leaf=10, max_features=auto, max_depth=None, score=0.915, total=   0.1s\n",
      "[CV] splitter=random, min_samples_leaf=10, max_features=auto, max_depth=None \n",
      "[CV]  splitter=random, min_samples_leaf=10, max_features=auto, max_depth=None, score=0.928, total=   0.1s\n",
      "[CV] splitter=random, min_samples_leaf=10, max_features=auto, max_depth=None \n",
      "[CV]  splitter=random, min_samples_leaf=10, max_features=auto, max_depth=None, score=0.894, total=   0.1s\n",
      "[CV] splitter=random, min_samples_leaf=10, max_features=auto, max_depth=None \n",
      "[CV]  splitter=random, min_samples_leaf=10, max_features=auto, max_depth=None, score=0.951, total=   0.1s\n",
      "[CV] splitter=random, min_samples_leaf=4, max_features=sqrt, max_depth=30 \n",
      "[CV]  splitter=random, min_samples_leaf=4, max_features=sqrt, max_depth=30, score=0.278, total=   0.1s\n",
      "[CV] splitter=random, min_samples_leaf=4, max_features=sqrt, max_depth=30 \n",
      "[CV]  splitter=random, min_samples_leaf=4, max_features=sqrt, max_depth=30, score=0.831, total=   0.1s\n",
      "[CV] splitter=random, min_samples_leaf=4, max_features=sqrt, max_depth=30 \n",
      "[CV]  splitter=random, min_samples_leaf=4, max_features=sqrt, max_depth=30, score=0.323, total=   0.1s\n",
      "[CV] splitter=random, min_samples_leaf=4, max_features=sqrt, max_depth=30 \n",
      "[CV]  splitter=random, min_samples_leaf=4, max_features=sqrt, max_depth=30, score=0.715, total=   0.1s\n",
      "[CV] splitter=random, min_samples_leaf=4, max_features=sqrt, max_depth=30 \n",
      "[CV]  splitter=random, min_samples_leaf=4, max_features=sqrt, max_depth=30, score=0.370, total=   0.1s\n",
      "[CV] splitter=best, min_samples_leaf=8, max_features=log2, max_depth=50 \n",
      "[CV]  splitter=best, min_samples_leaf=8, max_features=log2, max_depth=50, score=0.806, total=   0.2s\n",
      "[CV] splitter=best, min_samples_leaf=8, max_features=log2, max_depth=50 \n",
      "[CV]  splitter=best, min_samples_leaf=8, max_features=log2, max_depth=50, score=0.865, total=   0.2s\n",
      "[CV] splitter=best, min_samples_leaf=8, max_features=log2, max_depth=50 \n",
      "[CV]  splitter=best, min_samples_leaf=8, max_features=log2, max_depth=50, score=0.489, total=   0.2s\n",
      "[CV] splitter=best, min_samples_leaf=8, max_features=log2, max_depth=50 \n",
      "[CV]  splitter=best, min_samples_leaf=8, max_features=log2, max_depth=50, score=0.861, total=   0.2s\n",
      "[CV] splitter=best, min_samples_leaf=8, max_features=log2, max_depth=50 \n",
      "[CV]  splitter=best, min_samples_leaf=8, max_features=log2, max_depth=50, score=0.869, total=   0.2s\n",
      "[CV] splitter=random, min_samples_leaf=4, max_features=auto, max_depth=None \n",
      "[CV]  splitter=random, min_samples_leaf=4, max_features=auto, max_depth=None, score=0.959, total=   0.1s\n",
      "[CV] splitter=random, min_samples_leaf=4, max_features=auto, max_depth=None \n",
      "[CV]  splitter=random, min_samples_leaf=4, max_features=auto, max_depth=None, score=0.949, total=   0.1s\n",
      "[CV] splitter=random, min_samples_leaf=4, max_features=auto, max_depth=None \n",
      "[CV]  splitter=random, min_samples_leaf=4, max_features=auto, max_depth=None, score=0.837, total=   0.1s\n",
      "[CV] splitter=random, min_samples_leaf=4, max_features=auto, max_depth=None \n"
     ]
    },
    {
     "name": "stdout",
     "output_type": "stream",
     "text": [
      "[CV]  splitter=random, min_samples_leaf=4, max_features=auto, max_depth=None, score=0.927, total=   0.1s\n",
      "[CV] splitter=random, min_samples_leaf=4, max_features=auto, max_depth=None \n",
      "[CV]  splitter=random, min_samples_leaf=4, max_features=auto, max_depth=None, score=0.961, total=   0.1s\n",
      "[CV] splitter=random, min_samples_leaf=8, max_features=auto, max_depth=25 \n",
      "[CV]  splitter=random, min_samples_leaf=8, max_features=auto, max_depth=25, score=0.943, total=   0.1s\n",
      "[CV] splitter=random, min_samples_leaf=8, max_features=auto, max_depth=25 \n",
      "[CV]  splitter=random, min_samples_leaf=8, max_features=auto, max_depth=25, score=0.919, total=   0.1s\n",
      "[CV] splitter=random, min_samples_leaf=8, max_features=auto, max_depth=25 \n",
      "[CV]  splitter=random, min_samples_leaf=8, max_features=auto, max_depth=25, score=0.912, total=   0.1s\n",
      "[CV] splitter=random, min_samples_leaf=8, max_features=auto, max_depth=25 \n",
      "[CV]  splitter=random, min_samples_leaf=8, max_features=auto, max_depth=25, score=0.942, total=   0.1s\n",
      "[CV] splitter=random, min_samples_leaf=8, max_features=auto, max_depth=25 \n",
      "[CV]  splitter=random, min_samples_leaf=8, max_features=auto, max_depth=25, score=0.949, total=   0.1s\n",
      "[CV] splitter=best, min_samples_leaf=8, max_features=auto, max_depth=None \n",
      "[CV]  splitter=best, min_samples_leaf=8, max_features=auto, max_depth=None, score=0.973, total=   0.3s\n",
      "[CV] splitter=best, min_samples_leaf=8, max_features=auto, max_depth=None \n",
      "[CV]  splitter=best, min_samples_leaf=8, max_features=auto, max_depth=None, score=0.970, total=   0.3s\n",
      "[CV] splitter=best, min_samples_leaf=8, max_features=auto, max_depth=None \n",
      "[CV]  splitter=best, min_samples_leaf=8, max_features=auto, max_depth=None, score=0.972, total=   0.3s\n",
      "[CV] splitter=best, min_samples_leaf=8, max_features=auto, max_depth=None \n",
      "[CV]  splitter=best, min_samples_leaf=8, max_features=auto, max_depth=None, score=0.975, total=   0.3s\n",
      "[CV] splitter=best, min_samples_leaf=8, max_features=auto, max_depth=None \n",
      "[CV]  splitter=best, min_samples_leaf=8, max_features=auto, max_depth=None, score=0.971, total=   0.2s\n",
      "[CV] splitter=random, min_samples_leaf=6, max_features=sqrt, max_depth=None \n",
      "[CV]  splitter=random, min_samples_leaf=6, max_features=sqrt, max_depth=None, score=0.762, total=   0.1s\n",
      "[CV] splitter=random, min_samples_leaf=6, max_features=sqrt, max_depth=None \n",
      "[CV]  splitter=random, min_samples_leaf=6, max_features=sqrt, max_depth=None, score=0.499, total=   0.1s\n",
      "[CV] splitter=random, min_samples_leaf=6, max_features=sqrt, max_depth=None \n",
      "[CV]  splitter=random, min_samples_leaf=6, max_features=sqrt, max_depth=None, score=0.567, total=   0.1s\n",
      "[CV] splitter=random, min_samples_leaf=6, max_features=sqrt, max_depth=None \n",
      "[CV]  splitter=random, min_samples_leaf=6, max_features=sqrt, max_depth=None, score=0.341, total=   0.1s\n",
      "[CV] splitter=random, min_samples_leaf=6, max_features=sqrt, max_depth=None \n",
      "[CV]  splitter=random, min_samples_leaf=6, max_features=sqrt, max_depth=None, score=0.382, total=   0.1s\n",
      "[CV] splitter=best, min_samples_leaf=8, max_features=sqrt, max_depth=None \n",
      "[CV]  splitter=best, min_samples_leaf=8, max_features=sqrt, max_depth=None, score=0.928, total=   0.2s\n",
      "[CV] splitter=best, min_samples_leaf=8, max_features=sqrt, max_depth=None \n",
      "[CV]  splitter=best, min_samples_leaf=8, max_features=sqrt, max_depth=None, score=0.699, total=   0.2s\n",
      "[CV] splitter=best, min_samples_leaf=8, max_features=sqrt, max_depth=None \n",
      "[CV]  splitter=best, min_samples_leaf=8, max_features=sqrt, max_depth=None, score=0.866, total=   0.2s\n",
      "[CV] splitter=best, min_samples_leaf=8, max_features=sqrt, max_depth=None \n",
      "[CV]  splitter=best, min_samples_leaf=8, max_features=sqrt, max_depth=None, score=0.782, total=   0.2s\n",
      "[CV] splitter=best, min_samples_leaf=8, max_features=sqrt, max_depth=None \n",
      "[CV]  splitter=best, min_samples_leaf=8, max_features=sqrt, max_depth=None, score=0.895, total=   0.2s\n",
      "[CV] splitter=random, min_samples_leaf=6, max_features=auto, max_depth=5 \n",
      "[CV]  splitter=random, min_samples_leaf=6, max_features=auto, max_depth=5, score=0.141, total=   0.1s\n",
      "[CV] splitter=random, min_samples_leaf=6, max_features=auto, max_depth=5 \n",
      "[CV]  splitter=random, min_samples_leaf=6, max_features=auto, max_depth=5, score=0.091, total=   0.1s\n",
      "[CV] splitter=random, min_samples_leaf=6, max_features=auto, max_depth=5 \n",
      "[CV]  splitter=random, min_samples_leaf=6, max_features=auto, max_depth=5, score=0.103, total=   0.1s\n",
      "[CV] splitter=random, min_samples_leaf=6, max_features=auto, max_depth=5 \n",
      "[CV]  splitter=random, min_samples_leaf=6, max_features=auto, max_depth=5, score=0.131, total=   0.1s\n",
      "[CV] splitter=random, min_samples_leaf=6, max_features=auto, max_depth=5 \n",
      "[CV]  splitter=random, min_samples_leaf=6, max_features=auto, max_depth=5, score=0.340, total=   0.1s\n",
      "[CV] splitter=best, min_samples_leaf=8, max_features=auto, max_depth=5 \n",
      "[CV]  splitter=best, min_samples_leaf=8, max_features=auto, max_depth=5, score=0.792, total=   0.1s\n",
      "[CV] splitter=best, min_samples_leaf=8, max_features=auto, max_depth=5 \n",
      "[CV]  splitter=best, min_samples_leaf=8, max_features=auto, max_depth=5, score=0.758, total=   0.1s\n",
      "[CV] splitter=best, min_samples_leaf=8, max_features=auto, max_depth=5 \n",
      "[CV]  splitter=best, min_samples_leaf=8, max_features=auto, max_depth=5, score=0.733, total=   0.1s\n",
      "[CV] splitter=best, min_samples_leaf=8, max_features=auto, max_depth=5 \n",
      "[CV]  splitter=best, min_samples_leaf=8, max_features=auto, max_depth=5, score=0.748, total=   0.1s\n",
      "[CV] splitter=best, min_samples_leaf=8, max_features=auto, max_depth=5 \n",
      "[CV]  splitter=best, min_samples_leaf=8, max_features=auto, max_depth=5, score=0.782, total=   0.1s\n",
      "[CV] splitter=best, min_samples_leaf=10, max_features=sqrt, max_depth=None \n",
      "[CV]  splitter=best, min_samples_leaf=10, max_features=sqrt, max_depth=None, score=0.861, total=   0.2s\n",
      "[CV] splitter=best, min_samples_leaf=10, max_features=sqrt, max_depth=None \n",
      "[CV]  splitter=best, min_samples_leaf=10, max_features=sqrt, max_depth=None, score=0.769, total=   0.2s\n",
      "[CV] splitter=best, min_samples_leaf=10, max_features=sqrt, max_depth=None \n",
      "[CV]  splitter=best, min_samples_leaf=10, max_features=sqrt, max_depth=None, score=0.737, total=   0.2s\n",
      "[CV] splitter=best, min_samples_leaf=10, max_features=sqrt, max_depth=None \n",
      "[CV]  splitter=best, min_samples_leaf=10, max_features=sqrt, max_depth=None, score=0.864, total=   0.2s\n",
      "[CV] splitter=best, min_samples_leaf=10, max_features=sqrt, max_depth=None \n",
      "[CV]  splitter=best, min_samples_leaf=10, max_features=sqrt, max_depth=None, score=0.493, total=   0.2s\n",
      "[CV] splitter=best, min_samples_leaf=2, max_features=log2, max_depth=25 \n",
      "[CV]  splitter=best, min_samples_leaf=2, max_features=log2, max_depth=25, score=0.885, total=   0.2s\n",
      "[CV] splitter=best, min_samples_leaf=2, max_features=log2, max_depth=25 \n",
      "[CV]  splitter=best, min_samples_leaf=2, max_features=log2, max_depth=25, score=0.934, total=   0.2s\n",
      "[CV] splitter=best, min_samples_leaf=2, max_features=log2, max_depth=25 \n",
      "[CV]  splitter=best, min_samples_leaf=2, max_features=log2, max_depth=25, score=0.926, total=   0.2s\n",
      "[CV] splitter=best, min_samples_leaf=2, max_features=log2, max_depth=25 \n",
      "[CV]  splitter=best, min_samples_leaf=2, max_features=log2, max_depth=25, score=0.896, total=   0.2s\n",
      "[CV] splitter=best, min_samples_leaf=2, max_features=log2, max_depth=25 \n",
      "[CV]  splitter=best, min_samples_leaf=2, max_features=log2, max_depth=25, score=0.941, total=   0.2s\n",
      "[CV] splitter=best, min_samples_leaf=2, max_features=log2, max_depth=35 \n",
      "[CV]  splitter=best, min_samples_leaf=2, max_features=log2, max_depth=35, score=0.906, total=   0.2s\n",
      "[CV] splitter=best, min_samples_leaf=2, max_features=log2, max_depth=35 \n",
      "[CV]  splitter=best, min_samples_leaf=2, max_features=log2, max_depth=35, score=0.895, total=   0.2s\n",
      "[CV] splitter=best, min_samples_leaf=2, max_features=log2, max_depth=35 \n",
      "[CV]  splitter=best, min_samples_leaf=2, max_features=log2, max_depth=35, score=0.903, total=   0.2s\n",
      "[CV] splitter=best, min_samples_leaf=2, max_features=log2, max_depth=35 \n",
      "[CV]  splitter=best, min_samples_leaf=2, max_features=log2, max_depth=35, score=0.863, total=   0.2s\n",
      "[CV] splitter=best, min_samples_leaf=2, max_features=log2, max_depth=35 \n",
      "[CV]  splitter=best, min_samples_leaf=2, max_features=log2, max_depth=35, score=0.880, total=   0.2s\n",
      "[CV] splitter=best, min_samples_leaf=6, max_features=log2, max_depth=20 \n",
      "[CV]  splitter=best, min_samples_leaf=6, max_features=log2, max_depth=20, score=0.439, total=   0.2s\n",
      "[CV] splitter=best, min_samples_leaf=6, max_features=log2, max_depth=20 \n"
     ]
    },
    {
     "name": "stdout",
     "output_type": "stream",
     "text": [
      "[CV]  splitter=best, min_samples_leaf=6, max_features=log2, max_depth=20, score=0.753, total=   0.2s\n",
      "[CV] splitter=best, min_samples_leaf=6, max_features=log2, max_depth=20 \n",
      "[CV]  splitter=best, min_samples_leaf=6, max_features=log2, max_depth=20, score=0.888, total=   0.2s\n",
      "[CV] splitter=best, min_samples_leaf=6, max_features=log2, max_depth=20 \n",
      "[CV]  splitter=best, min_samples_leaf=6, max_features=log2, max_depth=20, score=0.835, total=   0.2s\n",
      "[CV] splitter=best, min_samples_leaf=6, max_features=log2, max_depth=20 \n",
      "[CV]  splitter=best, min_samples_leaf=6, max_features=log2, max_depth=20, score=0.633, total=   0.2s\n"
     ]
    },
    {
     "name": "stderr",
     "output_type": "stream",
     "text": [
      "[Parallel(n_jobs=1)]: Done 125 out of 125 | elapsed:   18.3s finished\n"
     ]
    },
    {
     "name": "stdout",
     "output_type": "stream",
     "text": [
      "DecisionTreeRegressor(max_depth=30, max_features='auto', min_samples_leaf=6)\n",
      "0.9744767759316215\n",
      "0.9732598669943926\n"
     ]
    }
   ],
   "source": [
    "grid = {\n",
    "    \"max_depth\":[None,5,10,15,20,25,30,35,40,45,50],\n",
    "    'splitter':['best','random'],\n",
    "    \"max_features\":[\"auto\",\"sqrt\",'log2'],\n",
    "    \"min_samples_leaf\":[2,4,6,8,10],\n",
    "}\n",
    "model_rs = DecisionTreeRegressor()\n",
    "rs = RandomizedSearchCV(estimator=model_rs,param_distributions=grid,cv=5,verbose=25,n_iter=25)\n",
    "rs.fit(X_train,y_train)\n",
    "print(rs.best_estimator_)\n",
    "print(rs.score(X_test,y_test))\n",
    "print(rs.best_score_)\n",
    "import pickle\n",
    "pickle.dump(rs,open('./model_DTR_random.pkl','wb'))"
   ]
  },
  {
   "cell_type": "code",
   "execution_count": 73,
   "metadata": {},
   "outputs": [],
   "source": [
    "pickle.dump(model_DecisionTreeRegressor,open('./model_DTR_normal.pkl','wb'))\n",
    "pickle.dump(model_RandomForestRegressor,open('./model_RFR_normal.pkl','wb'))"
   ]
  },
  {
   "cell_type": "code",
   "execution_count": 74,
   "metadata": {},
   "outputs": [
    {
     "name": "stdout",
     "output_type": "stream",
     "text": [
      "data\t       main.ipynb\t     model_DTR_random.pkl\r\n",
      "location.json  model_DTR_normal.pkl  model_RFR_normal.pkl\r\n"
     ]
    }
   ],
   "source": [
    "!ls"
   ]
  },
  {
   "cell_type": "markdown",
   "metadata": {},
   "source": [
    "# the predictions may change according to different reasons. the predictions may change the 97% accuracy this shows may change the predictions may change"
   ]
  },
  {
   "cell_type": "code",
   "execution_count": null,
   "metadata": {},
   "outputs": [],
   "source": []
  }
 ],
 "metadata": {
  "kernelspec": {
   "display_name": "Python 3",
   "language": "python",
   "name": "python3"
  },
  "language_info": {
   "codemirror_mode": {
    "name": "ipython",
    "version": 3
   },
   "file_extension": ".py",
   "mimetype": "text/x-python",
   "name": "python",
   "nbconvert_exporter": "python",
   "pygments_lexer": "ipython3",
   "version": "3.8.5"
  }
 },
 "nbformat": 4,
 "nbformat_minor": 4
}
